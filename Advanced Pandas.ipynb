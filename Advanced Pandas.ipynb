{
 "cells": [
  {
   "cell_type": "markdown",
   "id": "bdcd0004",
   "metadata": {},
   "source": [
    "# Pandas\n",
    "\n",
    "## Speed up your Pandas Code"
   ]
  },
  {
   "cell_type": "code",
   "execution_count": 1,
   "id": "b387c0e1",
   "metadata": {
    "ExecuteTime": {
     "end_time": "2023-05-24T04:33:40.766939Z",
     "start_time": "2023-05-24T04:33:39.137595Z"
    }
   },
   "outputs": [],
   "source": [
    "import pandas as pd\n",
    "import numpy as np"
   ]
  },
  {
   "cell_type": "markdown",
   "id": "7a815c07",
   "metadata": {},
   "source": [
    "## Create our dataset"
   ]
  },
  {
   "cell_type": "code",
   "execution_count": 2,
   "id": "12cecaab",
   "metadata": {
    "ExecuteTime": {
     "end_time": "2023-05-24T04:38:21.204802Z",
     "start_time": "2023-05-24T04:38:21.170892Z"
    }
   },
   "outputs": [],
   "source": [
    "df= pd.DataFrame()\n",
    "size= 10_000\n",
    "\n",
    "df['age']= np.random.randint(0, 100, size)\n",
    "df['time_in_bed']= np.random.randint(0, 9, size)\n",
    "df['pct_sleeping']= np.random.randint(size)\n",
    "df['Favorite_food']= np.random.choice(['pizza', 'taco', 'ice-cream'], size)\n",
    "df['hate_food']= np.random.choice(['broccoli', 'candy corn', 'eggs'], size)"
   ]
  },
  {
   "cell_type": "code",
   "execution_count": 3,
   "id": "4633c98f",
   "metadata": {
    "ExecuteTime": {
     "end_time": "2023-05-24T04:38:29.550472Z",
     "start_time": "2023-05-24T04:38:29.521547Z"
    }
   },
   "outputs": [
    {
     "data": {
      "text/html": [
       "<div>\n",
       "<style scoped>\n",
       "    .dataframe tbody tr th:only-of-type {\n",
       "        vertical-align: middle;\n",
       "    }\n",
       "\n",
       "    .dataframe tbody tr th {\n",
       "        vertical-align: top;\n",
       "    }\n",
       "\n",
       "    .dataframe thead th {\n",
       "        text-align: right;\n",
       "    }\n",
       "</style>\n",
       "<table border=\"1\" class=\"dataframe\">\n",
       "  <thead>\n",
       "    <tr style=\"text-align: right;\">\n",
       "      <th></th>\n",
       "      <th>age</th>\n",
       "      <th>time_in_bed</th>\n",
       "      <th>pct_sleeping</th>\n",
       "      <th>Favorite_food</th>\n",
       "      <th>hate_food</th>\n",
       "    </tr>\n",
       "  </thead>\n",
       "  <tbody>\n",
       "    <tr>\n",
       "      <th>0</th>\n",
       "      <td>19</td>\n",
       "      <td>4</td>\n",
       "      <td>5815</td>\n",
       "      <td>pizza</td>\n",
       "      <td>candy corn</td>\n",
       "    </tr>\n",
       "    <tr>\n",
       "      <th>1</th>\n",
       "      <td>85</td>\n",
       "      <td>0</td>\n",
       "      <td>5815</td>\n",
       "      <td>taco</td>\n",
       "      <td>broccoli</td>\n",
       "    </tr>\n",
       "    <tr>\n",
       "      <th>2</th>\n",
       "      <td>43</td>\n",
       "      <td>1</td>\n",
       "      <td>5815</td>\n",
       "      <td>pizza</td>\n",
       "      <td>candy corn</td>\n",
       "    </tr>\n",
       "    <tr>\n",
       "      <th>3</th>\n",
       "      <td>26</td>\n",
       "      <td>2</td>\n",
       "      <td>5815</td>\n",
       "      <td>pizza</td>\n",
       "      <td>candy corn</td>\n",
       "    </tr>\n",
       "    <tr>\n",
       "      <th>4</th>\n",
       "      <td>22</td>\n",
       "      <td>8</td>\n",
       "      <td>5815</td>\n",
       "      <td>taco</td>\n",
       "      <td>broccoli</td>\n",
       "    </tr>\n",
       "  </tbody>\n",
       "</table>\n",
       "</div>"
      ],
      "text/plain": [
       "   age  time_in_bed  pct_sleeping Favorite_food   hate_food\n",
       "0   19            4          5815         pizza  candy corn\n",
       "1   85            0          5815          taco    broccoli\n",
       "2   43            1          5815         pizza  candy corn\n",
       "3   26            2          5815         pizza  candy corn\n",
       "4   22            8          5815          taco    broccoli"
      ]
     },
     "execution_count": 3,
     "metadata": {},
     "output_type": "execute_result"
    }
   ],
   "source": [
    "df.head()"
   ]
  },
  {
   "cell_type": "code",
   "execution_count": 4,
   "id": "6cbe5258",
   "metadata": {
    "ExecuteTime": {
     "end_time": "2023-05-24T04:38:37.756482Z",
     "start_time": "2023-05-24T04:38:37.740520Z"
    }
   },
   "outputs": [
    {
     "data": {
      "text/plain": [
       "(10000, 5)"
      ]
     },
     "execution_count": 4,
     "metadata": {},
     "output_type": "execute_result"
    }
   ],
   "source": [
    "df.shape"
   ]
  },
  {
   "cell_type": "code",
   "execution_count": 5,
   "id": "6e294644",
   "metadata": {
    "ExecuteTime": {
     "end_time": "2023-05-24T04:40:51.154135Z",
     "start_time": "2023-05-24T04:40:51.130177Z"
    }
   },
   "outputs": [],
   "source": [
    "def get_data(size= 10_000):\n",
    "    df= pd.DataFrame()\n",
    "\n",
    "    df['age']= np.random.randint(0, 100, size)\n",
    "    df['time_in_bed']= np.random.randint(0, 9, size)\n",
    "    df['pct_sleeping']= np.random.randint(size)\n",
    "    df['Favorite_food']= np.random.choice(['pizza', 'taco', 'ice-cream'], size)\n",
    "    df['hate_food']= np.random.choice(['broccoli', 'candy corn', 'eggs'], size)\n",
    "    return df"
   ]
  },
  {
   "cell_type": "code",
   "execution_count": 6,
   "id": "b49c216b",
   "metadata": {
    "ExecuteTime": {
     "end_time": "2023-05-24T04:40:55.675225Z",
     "start_time": "2023-05-24T04:40:55.636326Z"
    }
   },
   "outputs": [
    {
     "data": {
      "text/html": [
       "<div>\n",
       "<style scoped>\n",
       "    .dataframe tbody tr th:only-of-type {\n",
       "        vertical-align: middle;\n",
       "    }\n",
       "\n",
       "    .dataframe tbody tr th {\n",
       "        vertical-align: top;\n",
       "    }\n",
       "\n",
       "    .dataframe thead th {\n",
       "        text-align: right;\n",
       "    }\n",
       "</style>\n",
       "<table border=\"1\" class=\"dataframe\">\n",
       "  <thead>\n",
       "    <tr style=\"text-align: right;\">\n",
       "      <th></th>\n",
       "      <th>age</th>\n",
       "      <th>time_in_bed</th>\n",
       "      <th>pct_sleeping</th>\n",
       "      <th>Favorite_food</th>\n",
       "      <th>hate_food</th>\n",
       "    </tr>\n",
       "  </thead>\n",
       "  <tbody>\n",
       "    <tr>\n",
       "      <th>0</th>\n",
       "      <td>54</td>\n",
       "      <td>1</td>\n",
       "      <td>9573</td>\n",
       "      <td>pizza</td>\n",
       "      <td>eggs</td>\n",
       "    </tr>\n",
       "    <tr>\n",
       "      <th>1</th>\n",
       "      <td>84</td>\n",
       "      <td>4</td>\n",
       "      <td>9573</td>\n",
       "      <td>pizza</td>\n",
       "      <td>broccoli</td>\n",
       "    </tr>\n",
       "    <tr>\n",
       "      <th>2</th>\n",
       "      <td>91</td>\n",
       "      <td>5</td>\n",
       "      <td>9573</td>\n",
       "      <td>pizza</td>\n",
       "      <td>broccoli</td>\n",
       "    </tr>\n",
       "    <tr>\n",
       "      <th>3</th>\n",
       "      <td>68</td>\n",
       "      <td>7</td>\n",
       "      <td>9573</td>\n",
       "      <td>ice-cream</td>\n",
       "      <td>broccoli</td>\n",
       "    </tr>\n",
       "    <tr>\n",
       "      <th>4</th>\n",
       "      <td>72</td>\n",
       "      <td>7</td>\n",
       "      <td>9573</td>\n",
       "      <td>pizza</td>\n",
       "      <td>eggs</td>\n",
       "    </tr>\n",
       "    <tr>\n",
       "      <th>...</th>\n",
       "      <td>...</td>\n",
       "      <td>...</td>\n",
       "      <td>...</td>\n",
       "      <td>...</td>\n",
       "      <td>...</td>\n",
       "    </tr>\n",
       "    <tr>\n",
       "      <th>9995</th>\n",
       "      <td>25</td>\n",
       "      <td>4</td>\n",
       "      <td>9573</td>\n",
       "      <td>taco</td>\n",
       "      <td>broccoli</td>\n",
       "    </tr>\n",
       "    <tr>\n",
       "      <th>9996</th>\n",
       "      <td>54</td>\n",
       "      <td>7</td>\n",
       "      <td>9573</td>\n",
       "      <td>ice-cream</td>\n",
       "      <td>broccoli</td>\n",
       "    </tr>\n",
       "    <tr>\n",
       "      <th>9997</th>\n",
       "      <td>37</td>\n",
       "      <td>3</td>\n",
       "      <td>9573</td>\n",
       "      <td>pizza</td>\n",
       "      <td>eggs</td>\n",
       "    </tr>\n",
       "    <tr>\n",
       "      <th>9998</th>\n",
       "      <td>36</td>\n",
       "      <td>6</td>\n",
       "      <td>9573</td>\n",
       "      <td>taco</td>\n",
       "      <td>broccoli</td>\n",
       "    </tr>\n",
       "    <tr>\n",
       "      <th>9999</th>\n",
       "      <td>29</td>\n",
       "      <td>8</td>\n",
       "      <td>9573</td>\n",
       "      <td>taco</td>\n",
       "      <td>eggs</td>\n",
       "    </tr>\n",
       "  </tbody>\n",
       "</table>\n",
       "<p>10000 rows × 5 columns</p>\n",
       "</div>"
      ],
      "text/plain": [
       "      age  time_in_bed  pct_sleeping Favorite_food hate_food\n",
       "0      54            1          9573         pizza      eggs\n",
       "1      84            4          9573         pizza  broccoli\n",
       "2      91            5          9573         pizza  broccoli\n",
       "3      68            7          9573     ice-cream  broccoli\n",
       "4      72            7          9573         pizza      eggs\n",
       "...   ...          ...           ...           ...       ...\n",
       "9995   25            4          9573          taco  broccoli\n",
       "9996   54            7          9573     ice-cream  broccoli\n",
       "9997   37            3          9573         pizza      eggs\n",
       "9998   36            6          9573          taco  broccoli\n",
       "9999   29            8          9573          taco      eggs\n",
       "\n",
       "[10000 rows x 5 columns]"
      ]
     },
     "execution_count": 6,
     "metadata": {},
     "output_type": "execute_result"
    }
   ],
   "source": [
    "get_data()"
   ]
  },
  {
   "cell_type": "markdown",
   "id": "aeefd2a7",
   "metadata": {},
   "source": [
    "### The Problem\n",
    "\n",
    "Rewrd calculation\n",
    "*  If they were in bed for more than 5 hours & they were sleeping for more than 50% we give them their favorite food.\n",
    "* Otherwise we give them their hate food\n",
    "* If they are over 90 years old give their favourite food regardless. "
   ]
  },
  {
   "cell_type": "code",
   "execution_count": 7,
   "id": "efae00f5",
   "metadata": {
    "ExecuteTime": {
     "end_time": "2023-05-24T04:48:03.132480Z",
     "start_time": "2023-05-24T04:48:03.124501Z"
    }
   },
   "outputs": [],
   "source": [
    "def reward_cal(row):\n",
    "    if row['age'] >= 90:\n",
    "        return row['Favorite_food']\n",
    "    if (row['time_in_bed'] > 5) & (row['pct_sleeping'] > 0.5):\n",
    "        return row['Favorite_food']\n",
    "    return row['hate_food']"
   ]
  },
  {
   "cell_type": "markdown",
   "id": "7e6709b8",
   "metadata": {},
   "source": [
    "## Level 1 - Looop"
   ]
  },
  {
   "cell_type": "code",
   "execution_count": 12,
   "id": "abe51dd4",
   "metadata": {
    "ExecuteTime": {
     "end_time": "2023-05-24T04:52:32.862252Z",
     "start_time": "2023-05-24T04:52:20.065478Z"
    }
   },
   "outputs": [
    {
     "name": "stdout",
     "output_type": "stream",
     "text": [
      "1.59 s ± 42.4 ms per loop (mean ± std. dev. of 7 runs, 1 loop each)\n"
     ]
    }
   ],
   "source": [
    "%%timeit\n",
    "df= get_data()\n",
    "for index, row in df.iterrows():\n",
    "    df.loc[index, 'reward']= reward_cal(row)"
   ]
  },
  {
   "cell_type": "markdown",
   "id": "f461289d",
   "metadata": {},
   "source": [
    "## Level 2 - Apply"
   ]
  },
  {
   "cell_type": "code",
   "execution_count": 15,
   "id": "7d9a5c68",
   "metadata": {
    "ExecuteTime": {
     "end_time": "2023-05-24T04:54:53.207233Z",
     "start_time": "2023-05-24T04:54:51.746138Z"
    }
   },
   "outputs": [
    {
     "name": "stdout",
     "output_type": "stream",
     "text": [
      "165 ms ± 6.13 ms per loop (mean ± std. dev. of 7 runs, 1 loop each)\n"
     ]
    }
   ],
   "source": [
    "%%timeit\n",
    "df= get_data()\n",
    "df['reward']= df.apply(reward_cal, axis=1)"
   ]
  },
  {
   "cell_type": "markdown",
   "id": "75ca5286",
   "metadata": {},
   "source": [
    "## Level 3 - Vectorized"
   ]
  },
  {
   "cell_type": "code",
   "execution_count": 18,
   "id": "1f2d0832",
   "metadata": {
    "ExecuteTime": {
     "end_time": "2023-05-24T04:57:09.302709Z",
     "start_time": "2023-05-24T04:57:09.284771Z"
    }
   },
   "outputs": [
    {
     "data": {
      "text/plain": [
       "0       False\n",
       "1       False\n",
       "2       False\n",
       "3       False\n",
       "4        True\n",
       "        ...  \n",
       "9995    False\n",
       "9996     True\n",
       "9997    False\n",
       "9998    False\n",
       "9999     True\n",
       "Length: 10000, dtype: bool"
      ]
     },
     "execution_count": 18,
     "metadata": {},
     "output_type": "execute_result"
    }
   ],
   "source": [
    "((df['pct_sleeping']> 0.5) & (df['time_in_bed']>5)) | (df['age']> 90)"
   ]
  },
  {
   "cell_type": "code",
   "execution_count": 19,
   "id": "be12fd43",
   "metadata": {
    "ExecuteTime": {
     "end_time": "2023-05-24T05:25:14.715667Z",
     "start_time": "2023-05-24T05:25:06.745998Z"
    }
   },
   "outputs": [
    {
     "name": "stdout",
     "output_type": "stream",
     "text": [
      "9.79 ms ± 739 µs per loop (mean ± std. dev. of 7 runs, 100 loops each)\n"
     ]
    }
   ],
   "source": [
    "%%timeit\n",
    "df= get_data()\n",
    "df['reward']= df['hate_food']\n",
    "df.loc[((df['pct_sleeping']> 0.5) & \n",
    "        (df['time_in_bed']>5)) | \n",
    "       (df['age']> 90), 'reward']= df['Favorite_food']"
   ]
  },
  {
   "cell_type": "code",
   "execution_count": null,
   "id": "02915f1c",
   "metadata": {},
   "outputs": [],
   "source": []
  }
 ],
 "metadata": {
  "kernelspec": {
   "display_name": "Python 3 (ipykernel)",
   "language": "python",
   "name": "python3"
  },
  "language_info": {
   "codemirror_mode": {
    "name": "ipython",
    "version": 3
   },
   "file_extension": ".py",
   "mimetype": "text/x-python",
   "name": "python",
   "nbconvert_exporter": "python",
   "pygments_lexer": "ipython3",
   "version": "3.9.12"
  },
  "latex_envs": {
   "LaTeX_envs_menu_present": true,
   "autoclose": false,
   "autocomplete": true,
   "bibliofile": "biblio.bib",
   "cite_by": "apalike",
   "current_citInitial": 1,
   "eqLabelWithNumbers": true,
   "eqNumInitial": 1,
   "hotkeys": {
    "equation": "Ctrl-E",
    "itemize": "Ctrl-I"
   },
   "labels_anchors": false,
   "latex_user_defs": false,
   "report_style_numbering": false,
   "user_envs_cfg": false
  },
  "nbTranslate": {
   "displayLangs": [
    "*"
   ],
   "hotkey": "alt-t",
   "langInMainMenu": true,
   "sourceLang": "en",
   "targetLang": "fr",
   "useGoogleTranslate": true
  },
  "toc": {
   "base_numbering": 1,
   "nav_menu": {},
   "number_sections": true,
   "sideBar": true,
   "skip_h1_title": false,
   "title_cell": "Table of Contents",
   "title_sidebar": "Contents",
   "toc_cell": false,
   "toc_position": {},
   "toc_section_display": true,
   "toc_window_display": false
  },
  "varInspector": {
   "cols": {
    "lenName": 16,
    "lenType": 16,
    "lenVar": 40
   },
   "kernels_config": {
    "python": {
     "delete_cmd_postfix": "",
     "delete_cmd_prefix": "del ",
     "library": "var_list.py",
     "varRefreshCmd": "print(var_dic_list())"
    },
    "r": {
     "delete_cmd_postfix": ") ",
     "delete_cmd_prefix": "rm(",
     "library": "var_list.r",
     "varRefreshCmd": "cat(var_dic_list()) "
    }
   },
   "types_to_exclude": [
    "module",
    "function",
    "builtin_function_or_method",
    "instance",
    "_Feature"
   ],
   "window_display": false
  }
 },
 "nbformat": 4,
 "nbformat_minor": 5
}
